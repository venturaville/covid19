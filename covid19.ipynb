{
 "cells": [
  {
   "cell_type": "code",
   "execution_count": null,
   "metadata": {
    "tags": []
   },
   "outputs": [],
   "source": [
    "\n",
    "import pprint\n",
    "import random\n",
    "from datetime import datetime, timedelta\n",
    "import string\n",
    "import pandas as pd\n",
    "import json\n",
    "import time\n",
    "import matplotlib.pyplot as plt\n",
    "import numpy as np\n",
    "import requests\n",
    "from colorspacious import cspace_converter\n",
    "from collections import OrderedDict"
   ]
  },
  {
   "cell_type": "code",
   "execution_count": null,
   "metadata": {},
   "outputs": [],
   "source": [
    "## Get state abbrevations"
   ]
  },
  {
   "cell_type": "code",
   "execution_count": null,
   "metadata": {
    "tags": []
   },
   "outputs": [],
   "source": [
    "abbrevdf = pd.read_json('state_abbreviations.json')\n",
    "states = abbrevdf['Code'].to_numpy()\n",
    "print(states)"
   ]
  },
  {
   "cell_type": "code",
   "execution_count": null,
   "metadata": {},
   "outputs": [],
   "source": [
    "## Get covid 19 stats for US and states"
   ]
  },
  {
   "cell_type": "code",
   "execution_count": null,
   "metadata": {
    "tags": []
   },
   "outputs": [],
   "source": [
    "#states = ['AL','GA','FL','TN','LA','CA','NY','WA']\n",
    "response = requests.request(\"GET\",'https://api.covidtracking.com/v1/us/daily.json')\n",
    "usdf = pd.read_json(response.text)\n",
    "usdf['date'] = pd.to_datetime(usdf['date'], format='%Y%m%d')\n",
    "\n",
    "df = pd.DataFrame()\n",
    "for state in states:\n",
    "    url='https://api.covidtracking.com/v1/states/{s}/daily.json'.format(s = state.lower())\n",
    "    response = requests.request(\"GET\", url)\n",
    "    statedf = pd.read_json(response.text)\n",
    "    statedf['date'] = pd.to_datetime(statedf['date'], format='%Y%m%d')\n",
    "    df = pd.concat([df,statedf])"
   ]
  },
  {
   "cell_type": "markdown",
   "metadata": {},
   "source": [
    "## Get population data for states"
   ]
  },
  {
   "cell_type": "code",
   "execution_count": null,
   "metadata": {
    "tags": []
   },
   "outputs": [],
   "source": [
    "usdf['POPESTIMATE2019'] = 330183381\n",
    "abbrevdf = pd.read_json('state_abbreviations.json')\n",
    "popdf = pd.read_csv(\"scprc-est2019-18+pop-res.csv\")\n",
    "popdf.rename(columns={'NAME': 'State'}, inplace=True)\n",
    "popdf = popdf.join(abbrevdf.set_index('State'), on='State')\n",
    "df = df.join(popdf.set_index('Code'), on='state',lsuffix='',rsuffix='pop_')\n",
    "df.head()"
   ]
  },
  {
   "cell_type": "code",
   "execution_count": null,
   "metadata": {},
   "outputs": [],
   "source": [
    "df['popPositiveIncrease'] = df['positiveIncrease'] / df['POPESTIMATE2019'] * 1000000\n",
    "usdf['popPositiveIncrease'] = usdf['positiveIncrease'] / usdf['POPESTIMATE2019'] * 1000000\n",
    "usdf['7dayaverage'] = usdf['popPositiveIncrease'].rolling(window=7,min_periods=3).mean()"
   ]
  },
  {
   "cell_type": "code",
   "execution_count": null,
   "metadata": {
    "tags": []
   },
   "outputs": [],
   "source": [
    "\n",
    "plt.style.use('ggplot')\n",
    "plots = []\n",
    "labels = []\n",
    "plt.rcParams[\"figure.figsize\"] = (20,6)\n",
    "# Get ordered list of states by current popPositiveIncrease\n",
    "top_states = df.sort_values(by='date').drop_duplicates(subset=['state'], keep='last').sort_values(by='popPositiveIncrease',ascending=False)\n",
    "for state in top_states['state'].head(10):\n",
    "    statedf = df[df['state'] == state]\n",
    "    plot, = plt.plot(statedf['date'],statedf['popPositiveIncrease'].rolling(window=7,min_periods=3).mean(),label=state)\n",
    "    plots.append(plot)\n",
    "    currentIncrease = statedf.sort_values(by='date').iloc[-1,:].popPositiveIncrease\n",
    "    labels.append(\"{} current: {:.1f}\".format(state,currentIncrease))\n",
    "plot, = plt.plot(usdf['date'],usdf['7dayaverage'],label='US',linestyle='--',linewidth=3,color='black',alpha=0.8)\n",
    "plots.append(plot)\n",
    "currentIncrease = usdf.sort_values(by='date').iloc[-1,:].popPositiveIncrease\n",
    "labels.append(\"{} current: {:.1f}\".format('US',currentIncrease))\n",
    "plt.legend(handles=plots, labels=labels,loc='upper left')\n",
    "plt.title('New Positive Cases per Million People (Top 10)')\n",
    "plt.show()"
   ]
  },
  {
   "cell_type": "code",
   "execution_count": null,
   "metadata": {},
   "outputs": [],
   "source": []
  }
 ],
 "metadata": {
  "kernelspec": {
   "display_name": "Python 3.8.5 64-bit",
   "name": "python_defaultSpec_1598886167407"
  },
  "language_info": {
   "codemirror_mode": {
    "name": "ipython",
    "version": 3
   },
   "file_extension": ".py",
   "mimetype": "text/x-python",
   "name": "python",
   "nbconvert_exporter": "python",
   "pygments_lexer": "ipython3",
   "version": "3.8.5-final"
  }
 },
 "nbformat": 4,
 "nbformat_minor": 2
}
